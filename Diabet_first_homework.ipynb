{
 "cells": [
  {
   "cell_type": "code",
   "execution_count": 496,
   "id": "04d2086f",
   "metadata": {},
   "outputs": [],
   "source": [
    "import numpy as np              # Массивы (матрицы, векторы, линейная алгебра)\n",
    "import matplotlib.pyplot as plt # Научная графика\n",
    "%matplotlib inline \n",
    "    # Говорим jupyter'у, чтобы весь графический вывод был в браузере, а не в отдельном окне\n",
    "import pandas as pd             # Таблицы и временные ряды (dataframe, series)\n",
    "import seaborn as sns           # Еще больше красивой графики для визуализации данных\n",
    "import sklearn                  # Алгоритмы машинного обучения"
   ]
  },
  {
   "cell_type": "markdown",
   "id": "76c67a7c",
   "metadata": {},
   "source": [
    "# 0. Описание задачи"
   ]
  },
  {
   "cell_type": "markdown",
   "id": "24714827",
   "metadata": {},
   "source": [
    "Таблица содержит данные о 768 людях (объектах). Для каждого человека указаны следующие данные:\n",
    "1. Беременность (ед.)\n",
    "2. Уровень глюкозы (ед.)\n",
    "3. Кровяное давление (мм. рт. ст.)\n",
    "4. Толщина кожи (мм)\n",
    "5. Уровень инсулина (ММЕ / мл)\n",
    "6. Индекс массы тела (кг / м^2)\n",
    "7. Вероятность диабета на основе анамнеза (ед.)\n",
    "8. Возраст (лет)\n",
    "9. Результат (0 - отрицательный, 1 - положительный)\n",
    "\n",
    "Задача состоит в том, чтобы по первым 8 признакам предсказать, болен ли человек."
   ]
  },
  {
   "cell_type": "markdown",
   "id": "1dddd4c8",
   "metadata": {},
   "source": [
    "# 1. Считывание данных"
   ]
  },
  {
   "cell_type": "code",
   "execution_count": 497,
   "id": "ca2308b0",
   "metadata": {},
   "outputs": [],
   "source": [
    "url = \"https://raw.githubusercontent.com/381706LembrikovStepan/MachineLearning/main/diabetes.csv\"\n",
    "data_raw = pd.read_csv(url)"
   ]
  },
  {
   "cell_type": "markdown",
   "id": "ff6a290d",
   "metadata": {},
   "source": [
    "Выведем начало и конец таблицы на экран для наглядности"
   ]
  },
  {
   "cell_type": "code",
   "execution_count": 498,
   "id": "b43b4ad7",
   "metadata": {},
   "outputs": [
    {
     "data": {
      "text/html": [
       "<div>\n",
       "<style scoped>\n",
       "    .dataframe tbody tr th:only-of-type {\n",
       "        vertical-align: middle;\n",
       "    }\n",
       "\n",
       "    .dataframe tbody tr th {\n",
       "        vertical-align: top;\n",
       "    }\n",
       "\n",
       "    .dataframe thead th {\n",
       "        text-align: right;\n",
       "    }\n",
       "</style>\n",
       "<table border=\"1\" class=\"dataframe\">\n",
       "  <thead>\n",
       "    <tr style=\"text-align: right;\">\n",
       "      <th></th>\n",
       "      <th>Pregnancies</th>\n",
       "      <th>Glucose</th>\n",
       "      <th>BloodPressure</th>\n",
       "      <th>SkinThickness</th>\n",
       "      <th>Insulin</th>\n",
       "      <th>BMI</th>\n",
       "      <th>DiabetesPedigreeFunction</th>\n",
       "      <th>Age</th>\n",
       "      <th>Outcome</th>\n",
       "    </tr>\n",
       "  </thead>\n",
       "  <tbody>\n",
       "    <tr>\n",
       "      <th>0</th>\n",
       "      <td>6</td>\n",
       "      <td>148</td>\n",
       "      <td>72</td>\n",
       "      <td>35</td>\n",
       "      <td>0</td>\n",
       "      <td>33.6</td>\n",
       "      <td>0.627</td>\n",
       "      <td>50</td>\n",
       "      <td>1</td>\n",
       "    </tr>\n",
       "    <tr>\n",
       "      <th>1</th>\n",
       "      <td>1</td>\n",
       "      <td>85</td>\n",
       "      <td>66</td>\n",
       "      <td>29</td>\n",
       "      <td>0</td>\n",
       "      <td>26.6</td>\n",
       "      <td>0.351</td>\n",
       "      <td>31</td>\n",
       "      <td>0</td>\n",
       "    </tr>\n",
       "    <tr>\n",
       "      <th>2</th>\n",
       "      <td>8</td>\n",
       "      <td>183</td>\n",
       "      <td>64</td>\n",
       "      <td>0</td>\n",
       "      <td>0</td>\n",
       "      <td>23.3</td>\n",
       "      <td>0.672</td>\n",
       "      <td>32</td>\n",
       "      <td>1</td>\n",
       "    </tr>\n",
       "    <tr>\n",
       "      <th>3</th>\n",
       "      <td>1</td>\n",
       "      <td>89</td>\n",
       "      <td>66</td>\n",
       "      <td>23</td>\n",
       "      <td>94</td>\n",
       "      <td>28.1</td>\n",
       "      <td>0.167</td>\n",
       "      <td>21</td>\n",
       "      <td>0</td>\n",
       "    </tr>\n",
       "    <tr>\n",
       "      <th>4</th>\n",
       "      <td>0</td>\n",
       "      <td>137</td>\n",
       "      <td>40</td>\n",
       "      <td>35</td>\n",
       "      <td>168</td>\n",
       "      <td>43.1</td>\n",
       "      <td>2.288</td>\n",
       "      <td>33</td>\n",
       "      <td>1</td>\n",
       "    </tr>\n",
       "    <tr>\n",
       "      <th>...</th>\n",
       "      <td>...</td>\n",
       "      <td>...</td>\n",
       "      <td>...</td>\n",
       "      <td>...</td>\n",
       "      <td>...</td>\n",
       "      <td>...</td>\n",
       "      <td>...</td>\n",
       "      <td>...</td>\n",
       "      <td>...</td>\n",
       "    </tr>\n",
       "    <tr>\n",
       "      <th>763</th>\n",
       "      <td>10</td>\n",
       "      <td>101</td>\n",
       "      <td>76</td>\n",
       "      <td>48</td>\n",
       "      <td>180</td>\n",
       "      <td>32.9</td>\n",
       "      <td>0.171</td>\n",
       "      <td>63</td>\n",
       "      <td>0</td>\n",
       "    </tr>\n",
       "    <tr>\n",
       "      <th>764</th>\n",
       "      <td>2</td>\n",
       "      <td>122</td>\n",
       "      <td>70</td>\n",
       "      <td>27</td>\n",
       "      <td>0</td>\n",
       "      <td>36.8</td>\n",
       "      <td>0.340</td>\n",
       "      <td>27</td>\n",
       "      <td>0</td>\n",
       "    </tr>\n",
       "    <tr>\n",
       "      <th>765</th>\n",
       "      <td>5</td>\n",
       "      <td>121</td>\n",
       "      <td>72</td>\n",
       "      <td>23</td>\n",
       "      <td>112</td>\n",
       "      <td>26.2</td>\n",
       "      <td>0.245</td>\n",
       "      <td>30</td>\n",
       "      <td>0</td>\n",
       "    </tr>\n",
       "    <tr>\n",
       "      <th>766</th>\n",
       "      <td>1</td>\n",
       "      <td>126</td>\n",
       "      <td>60</td>\n",
       "      <td>0</td>\n",
       "      <td>0</td>\n",
       "      <td>30.1</td>\n",
       "      <td>0.349</td>\n",
       "      <td>47</td>\n",
       "      <td>1</td>\n",
       "    </tr>\n",
       "    <tr>\n",
       "      <th>767</th>\n",
       "      <td>1</td>\n",
       "      <td>93</td>\n",
       "      <td>70</td>\n",
       "      <td>31</td>\n",
       "      <td>0</td>\n",
       "      <td>30.4</td>\n",
       "      <td>0.315</td>\n",
       "      <td>23</td>\n",
       "      <td>0</td>\n",
       "    </tr>\n",
       "  </tbody>\n",
       "</table>\n",
       "<p>768 rows × 9 columns</p>\n",
       "</div>"
      ],
      "text/plain": [
       "     Pregnancies  Glucose  BloodPressure  SkinThickness  Insulin   BMI  \\\n",
       "0              6      148             72             35        0  33.6   \n",
       "1              1       85             66             29        0  26.6   \n",
       "2              8      183             64              0        0  23.3   \n",
       "3              1       89             66             23       94  28.1   \n",
       "4              0      137             40             35      168  43.1   \n",
       "..           ...      ...            ...            ...      ...   ...   \n",
       "763           10      101             76             48      180  32.9   \n",
       "764            2      122             70             27        0  36.8   \n",
       "765            5      121             72             23      112  26.2   \n",
       "766            1      126             60              0        0  30.1   \n",
       "767            1       93             70             31        0  30.4   \n",
       "\n",
       "     DiabetesPedigreeFunction  Age  Outcome  \n",
       "0                       0.627   50        1  \n",
       "1                       0.351   31        0  \n",
       "2                       0.672   32        1  \n",
       "3                       0.167   21        0  \n",
       "4                       2.288   33        1  \n",
       "..                        ...  ...      ...  \n",
       "763                     0.171   63        0  \n",
       "764                     0.340   27        0  \n",
       "765                     0.245   30        0  \n",
       "766                     0.349   47        1  \n",
       "767                     0.315   23        0  \n",
       "\n",
       "[768 rows x 9 columns]"
      ]
     },
     "execution_count": 498,
     "metadata": {},
     "output_type": "execute_result"
    }
   ],
   "source": [
    "data_raw"
   ]
  },
  {
   "cell_type": "markdown",
   "id": "2060d344",
   "metadata": {},
   "source": [
    "# 2. Визуализация данных и вычисление основных характеристик"
   ]
  },
  {
   "cell_type": "markdown",
   "id": "210d513c",
   "metadata": {},
   "source": [
    "Сначала посмотрим, сколько всего людей из выборки имеют положительный и отрицательный диагнозы."
   ]
  },
  {
   "cell_type": "code",
   "execution_count": 499,
   "id": "d6863fc5",
   "metadata": {},
   "outputs": [
    {
     "data": {
      "image/png": "[encoded data removed]",
      "text/plain": [
       "<Figure size 432x288 with 1 Axes>"
      ]
     },
     "metadata": {
      "needs_background": "light"
     },
     "output_type": "display_data"
    }
   ],
   "source": [
    "sns.countplot(x='Outcome', data=data_raw)\n",
    "pass"
   ]
  },
  {
   "cell_type": "markdown",
   "id": "ea820dcb",
   "metadata": {},
   "source": [
    "Из графика видно, что в выборке 500 человек не больны диабетом. Остальные 268 имеют положительный диагноз."
   ]
  },
  {
   "cell_type": "markdown",
   "id": "7f14007f",
   "metadata": {},
   "source": [
    "Посмотрим, как зависит соотношение здоровых и больных людей в зависимости от количества беременностей"
   ]
  },
  {
   "cell_type": "code",
   "execution_count": 500,
   "id": "94abce14",
   "metadata": {},
   "outputs": [
    {
     "data": {
      "image/png": "[encoded data removed]",
      "text/plain": [
       "<Figure size 432x288 with 1 Axes>"
      ]
     },
     "metadata": {
      "needs_background": "light"
     },
     "output_type": "display_data"
    }
   ],
   "source": [
    "sns.countplot(x='Pregnancies', hue='Outcome', data=data_raw)\n",
    "pass"
   ]
  },
  {
   "cell_type": "markdown",
   "id": "d9ee9d54",
   "metadata": {},
   "source": [
    "Из графика видно, что с увеличением количества беременностей возрастает доля больных людей по отношению к здоровым. Из этого можно сделать вывод, что существует корреляция между наличием диабета и количеством беременностей."
   ]
  },
  {
   "cell_type": "markdown",
   "id": "699f8a79",
   "metadata": {},
   "source": [
    "Вычислим основные характеристики для каждого из признаков"
   ]
  },
  {
   "cell_type": "code",
   "execution_count": 501,
   "id": "d3e090b3",
   "metadata": {},
   "outputs": [
    {
     "data": {
      "text/html": [
       "<div>\n",
       "<style scoped>\n",
       "    .dataframe tbody tr th:only-of-type {\n",
       "        vertical-align: middle;\n",
       "    }\n",
       "\n",
       "    .dataframe tbody tr th {\n",
       "        vertical-align: top;\n",
       "    }\n",
       "\n",
       "    .dataframe thead th {\n",
       "        text-align: right;\n",
       "    }\n",
       "</style>\n",
       "<table border=\"1\" class=\"dataframe\">\n",
       "  <thead>\n",
       "    <tr style=\"text-align: right;\">\n",
       "      <th></th>\n",
       "      <th>Pregnancies</th>\n",
       "      <th>Glucose</th>\n",
       "      <th>BloodPressure</th>\n",
       "      <th>SkinThickness</th>\n",
       "      <th>Insulin</th>\n",
       "      <th>BMI</th>\n",
       "      <th>DiabetesPedigreeFunction</th>\n",
       "      <th>Age</th>\n",
       "      <th>Outcome</th>\n",
       "    </tr>\n",
       "  </thead>\n",
       "  <tbody>\n",
       "    <tr>\n",
       "      <th>count</th>\n",
       "      <td>768.000000</td>\n",
       "      <td>768.000000</td>\n",
       "      <td>768.000000</td>\n",
       "      <td>768.000000</td>\n",
       "      <td>768.000000</td>\n",
       "      <td>768.000000</td>\n",
       "      <td>768.000000</td>\n",
       "      <td>768.000000</td>\n",
       "      <td>768.000000</td>\n",
       "    </tr>\n",
       "    <tr>\n",
       "      <th>mean</th>\n",
       "      <td>3.845052</td>\n",
       "      <td>120.894531</td>\n",
       "      <td>69.105469</td>\n",
       "      <td>20.536458</td>\n",
       "      <td>79.799479</td>\n",
       "      <td>31.992578</td>\n",
       "      <td>0.471876</td>\n",
       "      <td>33.240885</td>\n",
       "      <td>0.348958</td>\n",
       "    </tr>\n",
       "    <tr>\n",
       "      <th>std</th>\n",
       "      <td>3.369578</td>\n",
       "      <td>31.972618</td>\n",
       "      <td>19.355807</td>\n",
       "      <td>15.952218</td>\n",
       "      <td>115.244002</td>\n",
       "      <td>7.884160</td>\n",
       "      <td>0.331329</td>\n",
       "      <td>11.760232</td>\n",
       "      <td>0.476951</td>\n",
       "    </tr>\n",
       "    <tr>\n",
       "      <th>min</th>\n",
       "      <td>0.000000</td>\n",
       "      <td>0.000000</td>\n",
       "      <td>0.000000</td>\n",
       "      <td>0.000000</td>\n",
       "      <td>0.000000</td>\n",
       "      <td>0.000000</td>\n",
       "      <td>0.078000</td>\n",
       "      <td>21.000000</td>\n",
       "      <td>0.000000</td>\n",
       "    </tr>\n",
       "    <tr>\n",
       "      <th>25%</th>\n",
       "      <td>1.000000</td>\n",
       "      <td>99.000000</td>\n",
       "      <td>62.000000</td>\n",
       "      <td>0.000000</td>\n",
       "      <td>0.000000</td>\n",
       "      <td>27.300000</td>\n",
       "      <td>0.243750</td>\n",
       "      <td>24.000000</td>\n",
       "      <td>0.000000</td>\n",
       "    </tr>\n",
       "    <tr>\n",
       "      <th>50%</th>\n",
       "      <td>3.000000</td>\n",
       "      <td>117.000000</td>\n",
       "      <td>72.000000</td>\n",
       "      <td>23.000000</td>\n",
       "      <td>30.500000</td>\n",
       "      <td>32.000000</td>\n",
       "      <td>0.372500</td>\n",
       "      <td>29.000000</td>\n",
       "      <td>0.000000</td>\n",
       "    </tr>\n",
       "    <tr>\n",
       "      <th>75%</th>\n",
       "      <td>6.000000</td>\n",
       "      <td>140.250000</td>\n",
       "      <td>80.000000</td>\n",
       "      <td>32.000000</td>\n",
       "      <td>127.250000</td>\n",
       "      <td>36.600000</td>\n",
       "      <td>0.626250</td>\n",
       "      <td>41.000000</td>\n",
       "      <td>1.000000</td>\n",
       "    </tr>\n",
       "    <tr>\n",
       "      <th>max</th>\n",
       "      <td>17.000000</td>\n",
       "      <td>199.000000</td>\n",
       "      <td>122.000000</td>\n",
       "      <td>99.000000</td>\n",
       "      <td>846.000000</td>\n",
       "      <td>67.100000</td>\n",
       "      <td>2.420000</td>\n",
       "      <td>81.000000</td>\n",
       "      <td>1.000000</td>\n",
       "    </tr>\n",
       "  </tbody>\n",
       "</table>\n",
       "</div>"
      ],
      "text/plain": [
       "       Pregnancies     Glucose  BloodPressure  SkinThickness     Insulin  \\\n",
       "count   768.000000  768.000000     768.000000     768.000000  768.000000   \n",
       "mean      3.845052  120.894531      69.105469      20.536458   79.799479   \n",
       "std       3.369578   31.972618      19.355807      15.952218  115.244002   \n",
       "min       0.000000    0.000000       0.000000       0.000000    0.000000   \n",
       "25%       1.000000   99.000000      62.000000       0.000000    0.000000   \n",
       "50%       3.000000  117.000000      72.000000      23.000000   30.500000   \n",
       "75%       6.000000  140.250000      80.000000      32.000000  127.250000   \n",
       "max      17.000000  199.000000     122.000000      99.000000  846.000000   \n",
       "\n",
       "              BMI  DiabetesPedigreeFunction         Age     Outcome  \n",
       "count  768.000000                768.000000  768.000000  768.000000  \n",
       "mean    31.992578                  0.471876   33.240885    0.348958  \n",
       "std      7.884160                  0.331329   11.760232    0.476951  \n",
       "min      0.000000                  0.078000   21.000000    0.000000  \n",
       "25%     27.300000                  0.243750   24.000000    0.000000  \n",
       "50%     32.000000                  0.372500   29.000000    0.000000  \n",
       "75%     36.600000                  0.626250   41.000000    1.000000  \n",
       "max     67.100000                  2.420000   81.000000    1.000000  "
      ]
     },
     "execution_count": 501,
     "metadata": {},
     "output_type": "execute_result"
    }
   ],
   "source": [
    "data_raw.describe()"
   ]
  },
  {
   "cell_type": "markdown",
   "id": "1917d356",
   "metadata": {},
   "source": [
    "Как видно из данной таблицы, столбцы \"Glucose\", \"BloodPressure\", \"SkinThickness\", \"Insulin\" и \"BMI\" имеют в качестве минимального значения ноль. Очевидно, что это пропущенные значения, которые серьёзно искажают характеристики. Для начала заменим их на NaN."
   ]
  },
  {
   "cell_type": "code",
   "execution_count": 502,
   "id": "1c63f463",
   "metadata": {},
   "outputs": [],
   "source": [
    "data = data_raw\n",
    "data[\"Glucose\"] = data[\"Glucose\"].replace(to_replace = 0, value = np.nan)\n",
    "data[\"BloodPressure\"] = data[\"BloodPressure\"].replace(to_replace = 0, value = np.nan)\n",
    "data[\"SkinThickness\"] = data[\"SkinThickness\"].replace(to_replace = 0, value = np.nan)\n",
    "data[\"Insulin\"] = data[\"Insulin\"].replace(to_replace = 0, value = np.nan)\n",
    "data[\"BMI\"] = data[\"BMI\"].replace(to_replace = 0, value = np.nan)"
   ]
  },
  {
   "cell_type": "markdown",
   "id": "65f1e2fb",
   "metadata": {},
   "source": [
    "Узначем, сколько всего незаполненных значений в каждом из столбцов"
   ]
  },
  {
   "cell_type": "code",
   "execution_count": 503,
   "id": "1849db96",
   "metadata": {},
   "outputs": [
    {
     "data": {
      "text/plain": [
       "Pregnancies                   0\n",
       "Glucose                       5\n",
       "BloodPressure                35\n",
       "SkinThickness               227\n",
       "Insulin                     374\n",
       "BMI                          11\n",
       "DiabetesPedigreeFunction      0\n",
       "Age                           0\n",
       "Outcome                       0\n",
       "dtype: int64"
      ]
     },
     "execution_count": 503,
     "metadata": {},
     "output_type": "execute_result"
    }
   ],
   "source": [
    "data.isna().sum()"
   ]
  },
  {
   "cell_type": "markdown",
   "id": "8a2ba865",
   "metadata": {},
   "source": [
    "Найдём верные характеристики, которые не учитывают пропущенные значения."
   ]
  },
  {
   "cell_type": "code",
   "execution_count": 504,
   "id": "ba8a975e",
   "metadata": {},
   "outputs": [
    {
     "data": {
      "text/html": [
       "<div>\n",
       "<style scoped>\n",
       "    .dataframe tbody tr th:only-of-type {\n",
       "        vertical-align: middle;\n",
       "    }\n",
       "\n",
       "    .dataframe tbody tr th {\n",
       "        vertical-align: top;\n",
       "    }\n",
       "\n",
       "    .dataframe thead th {\n",
       "        text-align: right;\n",
       "    }\n",
       "</style>\n",
       "<table border=\"1\" class=\"dataframe\">\n",
       "  <thead>\n",
       "    <tr style=\"text-align: right;\">\n",
       "      <th></th>\n",
       "      <th>Pregnancies</th>\n",
       "      <th>Glucose</th>\n",
       "      <th>BloodPressure</th>\n",
       "      <th>SkinThickness</th>\n",
       "      <th>Insulin</th>\n",
       "      <th>BMI</th>\n",
       "      <th>DiabetesPedigreeFunction</th>\n",
       "      <th>Age</th>\n",
       "      <th>Outcome</th>\n",
       "    </tr>\n",
       "  </thead>\n",
       "  <tbody>\n",
       "    <tr>\n",
       "      <th>count</th>\n",
       "      <td>768.000000</td>\n",
       "      <td>763.000000</td>\n",
       "      <td>733.000000</td>\n",
       "      <td>541.000000</td>\n",
       "      <td>394.000000</td>\n",
       "      <td>757.000000</td>\n",
       "      <td>768.000000</td>\n",
       "      <td>768.000000</td>\n",
       "      <td>768.000000</td>\n",
       "    </tr>\n",
       "    <tr>\n",
       "      <th>mean</th>\n",
       "      <td>3.845052</td>\n",
       "      <td>121.686763</td>\n",
       "      <td>72.405184</td>\n",
       "      <td>29.153420</td>\n",
       "      <td>155.548223</td>\n",
       "      <td>32.457464</td>\n",
       "      <td>0.471876</td>\n",
       "      <td>33.240885</td>\n",
       "      <td>0.348958</td>\n",
       "    </tr>\n",
       "    <tr>\n",
       "      <th>std</th>\n",
       "      <td>3.369578</td>\n",
       "      <td>30.535641</td>\n",
       "      <td>12.382158</td>\n",
       "      <td>10.476982</td>\n",
       "      <td>118.775855</td>\n",
       "      <td>6.924988</td>\n",
       "      <td>0.331329</td>\n",
       "      <td>11.760232</td>\n",
       "      <td>0.476951</td>\n",
       "    </tr>\n",
       "    <tr>\n",
       "      <th>min</th>\n",
       "      <td>0.000000</td>\n",
       "      <td>44.000000</td>\n",
       "      <td>24.000000</td>\n",
       "      <td>7.000000</td>\n",
       "      <td>14.000000</td>\n",
       "      <td>18.200000</td>\n",
       "      <td>0.078000</td>\n",
       "      <td>21.000000</td>\n",
       "      <td>0.000000</td>\n",
       "    </tr>\n",
       "    <tr>\n",
       "      <th>25%</th>\n",
       "      <td>1.000000</td>\n",
       "      <td>99.000000</td>\n",
       "      <td>64.000000</td>\n",
       "      <td>22.000000</td>\n",
       "      <td>76.250000</td>\n",
       "      <td>27.500000</td>\n",
       "      <td>0.243750</td>\n",
       "      <td>24.000000</td>\n",
       "      <td>0.000000</td>\n",
       "    </tr>\n",
       "    <tr>\n",
       "      <th>50%</th>\n",
       "      <td>3.000000</td>\n",
       "      <td>117.000000</td>\n",
       "      <td>72.000000</td>\n",
       "      <td>29.000000</td>\n",
       "      <td>125.000000</td>\n",
       "      <td>32.300000</td>\n",
       "      <td>0.372500</td>\n",
       "      <td>29.000000</td>\n",
       "      <td>0.000000</td>\n",
       "    </tr>\n",
       "    <tr>\n",
       "      <th>75%</th>\n",
       "      <td>6.000000</td>\n",
       "      <td>141.000000</td>\n",
       "      <td>80.000000</td>\n",
       "      <td>36.000000</td>\n",
       "      <td>190.000000</td>\n",
       "      <td>36.600000</td>\n",
       "      <td>0.626250</td>\n",
       "      <td>41.000000</td>\n",
       "      <td>1.000000</td>\n",
       "    </tr>\n",
       "    <tr>\n",
       "      <th>max</th>\n",
       "      <td>17.000000</td>\n",
       "      <td>199.000000</td>\n",
       "      <td>122.000000</td>\n",
       "      <td>99.000000</td>\n",
       "      <td>846.000000</td>\n",
       "      <td>67.100000</td>\n",
       "      <td>2.420000</td>\n",
       "      <td>81.000000</td>\n",
       "      <td>1.000000</td>\n",
       "    </tr>\n",
       "  </tbody>\n",
       "</table>\n",
       "</div>"
      ],
      "text/plain": [
       "       Pregnancies     Glucose  BloodPressure  SkinThickness     Insulin  \\\n",
       "count   768.000000  763.000000     733.000000     541.000000  394.000000   \n",
       "mean      3.845052  121.686763      72.405184      29.153420  155.548223   \n",
       "std       3.369578   30.535641      12.382158      10.476982  118.775855   \n",
       "min       0.000000   44.000000      24.000000       7.000000   14.000000   \n",
       "25%       1.000000   99.000000      64.000000      22.000000   76.250000   \n",
       "50%       3.000000  117.000000      72.000000      29.000000  125.000000   \n",
       "75%       6.000000  141.000000      80.000000      36.000000  190.000000   \n",
       "max      17.000000  199.000000     122.000000      99.000000  846.000000   \n",
       "\n",
       "              BMI  DiabetesPedigreeFunction         Age     Outcome  \n",
       "count  757.000000                768.000000  768.000000  768.000000  \n",
       "mean    32.457464                  0.471876   33.240885    0.348958  \n",
       "std      6.924988                  0.331329   11.760232    0.476951  \n",
       "min     18.200000                  0.078000   21.000000    0.000000  \n",
       "25%     27.500000                  0.243750   24.000000    0.000000  \n",
       "50%     32.300000                  0.372500   29.000000    0.000000  \n",
       "75%     36.600000                  0.626250   41.000000    1.000000  \n",
       "max     67.100000                  2.420000   81.000000    1.000000  "
      ]
     },
     "execution_count": 504,
     "metadata": {},
     "output_type": "execute_result"
    }
   ],
   "source": [
    "data.describe()"
   ]
  },
  {
   "cell_type": "markdown",
   "id": "da59cb9b",
   "metadata": {},
   "source": [
    "Из первой строки таблицы можно увидеть, что в некоторых столбцах очень много пропущенных значений.\n",
    "Также данные в строке максимумов позволяют сделать предположение о наличии выбросов в  столбце \"SkinThickness\". Построим гистограмму и удостоверимся в этом:"
   ]
  },
  {
   "cell_type": "code",
   "execution_count": 505,
   "id": "0c94e8ee",
   "metadata": {},
   "outputs": [
    {
     "data": {
      "image/png": "[encoded data removed]",
      "text/plain": [
       "<Figure size 360x360 with 1 Axes>"
      ]
     },
     "metadata": {
      "needs_background": "light"
     },
     "output_type": "display_data"
    }
   ],
   "source": [
    "sns_plot = sns.displot(data[\"SkinThickness\"])"
   ]
  },
  {
   "cell_type": "markdown",
   "id": "f1f88b75",
   "metadata": {},
   "source": [
    "Выброс обнаружен. Уберём его из данных:"
   ]
  },
  {
   "cell_type": "code",
   "execution_count": 506,
   "id": "80712fd7",
   "metadata": {},
   "outputs": [],
   "source": [
    "rows_to_drop = data[(data['SkinThickness'] > data['SkinThickness'].quantile(0.999))].index\n",
    "data = data.drop(rows_to_drop)"
   ]
  },
  {
   "cell_type": "markdown",
   "id": "caa2720e",
   "metadata": {},
   "source": [
    "Построим гистограмму ещё раз, получилось ли избавиться от выброса"
   ]
  },
  {
   "cell_type": "code",
   "execution_count": 507,
   "id": "92c5fa47",
   "metadata": {},
   "outputs": [
    {
     "data": {
      "image/png": "[encoded data removed]",
      "text/plain": [
       "<Figure size 360x360 with 1 Axes>"
      ]
     },
     "metadata": {
      "needs_background": "light"
     },
     "output_type": "display_data"
    }
   ],
   "source": [
    "sns_plot = sns.displot(data[\"SkinThickness\"])"
   ]
  },
  {
   "cell_type": "markdown",
   "id": "156eec82",
   "metadata": {},
   "source": [
    "Выбросов в данных по данному признаку не обнаружено. "
   ]
  },
  {
   "cell_type": "markdown",
   "id": "96ff60f2",
   "metadata": {},
   "source": [
    "Теперь построим корреляционную матрицу:"
   ]
  },
  {
   "cell_type": "code",
   "execution_count": 508,
   "id": "ecf74a30",
   "metadata": {},
   "outputs": [
    {
     "data": {
      "text/html": [
       "<div>\n",
       "<style scoped>\n",
       "    .dataframe tbody tr th:only-of-type {\n",
       "        vertical-align: middle;\n",
       "    }\n",
       "\n",
       "    .dataframe tbody tr th {\n",
       "        vertical-align: top;\n",
       "    }\n",
       "\n",
       "    .dataframe thead th {\n",
       "        text-align: right;\n",
       "    }\n",
       "</style>\n",
       "<table border=\"1\" class=\"dataframe\">\n",
       "  <thead>\n",
       "    <tr style=\"text-align: right;\">\n",
       "      <th></th>\n",
       "      <th>Pregnancies</th>\n",
       "      <th>Glucose</th>\n",
       "      <th>BloodPressure</th>\n",
       "      <th>SkinThickness</th>\n",
       "      <th>Insulin</th>\n",
       "      <th>BMI</th>\n",
       "      <th>DiabetesPedigreeFunction</th>\n",
       "      <th>Age</th>\n",
       "      <th>Outcome</th>\n",
       "    </tr>\n",
       "  </thead>\n",
       "  <tbody>\n",
       "    <tr>\n",
       "      <th>Pregnancies</th>\n",
       "      <td>1.000000</td>\n",
       "      <td>0.130461</td>\n",
       "      <td>0.214082</td>\n",
       "      <td>0.110540</td>\n",
       "      <td>0.082171</td>\n",
       "      <td>0.021960</td>\n",
       "      <td>-0.033309</td>\n",
       "      <td>0.548341</td>\n",
       "      <td>0.223189</td>\n",
       "    </tr>\n",
       "    <tr>\n",
       "      <th>Glucose</th>\n",
       "      <td>0.130461</td>\n",
       "      <td>1.000000</td>\n",
       "      <td>0.224792</td>\n",
       "      <td>0.207306</td>\n",
       "      <td>0.581186</td>\n",
       "      <td>0.232662</td>\n",
       "      <td>0.136801</td>\n",
       "      <td>0.261293</td>\n",
       "      <td>0.492799</td>\n",
       "    </tr>\n",
       "    <tr>\n",
       "      <th>BloodPressure</th>\n",
       "      <td>0.214082</td>\n",
       "      <td>0.224792</td>\n",
       "      <td>1.000000</td>\n",
       "      <td>0.238360</td>\n",
       "      <td>0.098272</td>\n",
       "      <td>0.289344</td>\n",
       "      <td>-0.002726</td>\n",
       "      <td>0.332091</td>\n",
       "      <td>0.171184</td>\n",
       "    </tr>\n",
       "    <tr>\n",
       "      <th>SkinThickness</th>\n",
       "      <td>0.110540</td>\n",
       "      <td>0.207306</td>\n",
       "      <td>0.238360</td>\n",
       "      <td>1.000000</td>\n",
       "      <td>0.184888</td>\n",
       "      <td>0.673379</td>\n",
       "      <td>0.117465</td>\n",
       "      <td>0.138600</td>\n",
       "      <td>0.253102</td>\n",
       "    </tr>\n",
       "    <tr>\n",
       "      <th>Insulin</th>\n",
       "      <td>0.082171</td>\n",
       "      <td>0.581186</td>\n",
       "      <td>0.098272</td>\n",
       "      <td>0.184888</td>\n",
       "      <td>1.000000</td>\n",
       "      <td>0.228050</td>\n",
       "      <td>0.130395</td>\n",
       "      <td>0.220261</td>\n",
       "      <td>0.303454</td>\n",
       "    </tr>\n",
       "    <tr>\n",
       "      <th>BMI</th>\n",
       "      <td>0.021960</td>\n",
       "      <td>0.232662</td>\n",
       "      <td>0.289344</td>\n",
       "      <td>0.673379</td>\n",
       "      <td>0.228050</td>\n",
       "      <td>1.000000</td>\n",
       "      <td>0.155269</td>\n",
       "      <td>0.024890</td>\n",
       "      <td>0.313503</td>\n",
       "    </tr>\n",
       "    <tr>\n",
       "      <th>DiabetesPedigreeFunction</th>\n",
       "      <td>-0.033309</td>\n",
       "      <td>0.136801</td>\n",
       "      <td>-0.002726</td>\n",
       "      <td>0.117465</td>\n",
       "      <td>0.130395</td>\n",
       "      <td>0.155269</td>\n",
       "      <td>1.000000</td>\n",
       "      <td>0.032698</td>\n",
       "      <td>0.173512</td>\n",
       "    </tr>\n",
       "    <tr>\n",
       "      <th>Age</th>\n",
       "      <td>0.548341</td>\n",
       "      <td>0.261293</td>\n",
       "      <td>0.332091</td>\n",
       "      <td>0.138600</td>\n",
       "      <td>0.220261</td>\n",
       "      <td>0.024890</td>\n",
       "      <td>0.032698</td>\n",
       "      <td>1.000000</td>\n",
       "      <td>0.235203</td>\n",
       "    </tr>\n",
       "    <tr>\n",
       "      <th>Outcome</th>\n",
       "      <td>0.223189</td>\n",
       "      <td>0.492799</td>\n",
       "      <td>0.171184</td>\n",
       "      <td>0.253102</td>\n",
       "      <td>0.303454</td>\n",
       "      <td>0.313503</td>\n",
       "      <td>0.173512</td>\n",
       "      <td>0.235203</td>\n",
       "      <td>1.000000</td>\n",
       "    </tr>\n",
       "  </tbody>\n",
       "</table>\n",
       "</div>"
      ],
      "text/plain": [
       "                          Pregnancies   Glucose  BloodPressure  SkinThickness  \\\n",
       "Pregnancies                  1.000000  0.130461       0.214082       0.110540   \n",
       "Glucose                      0.130461  1.000000       0.224792       0.207306   \n",
       "BloodPressure                0.214082  0.224792       1.000000       0.238360   \n",
       "SkinThickness                0.110540  0.207306       0.238360       1.000000   \n",
       "Insulin                      0.082171  0.581186       0.098272       0.184888   \n",
       "BMI                          0.021960  0.232662       0.289344       0.673379   \n",
       "DiabetesPedigreeFunction    -0.033309  0.136801      -0.002726       0.117465   \n",
       "Age                          0.548341  0.261293       0.332091       0.138600   \n",
       "Outcome                      0.223189  0.492799       0.171184       0.253102   \n",
       "\n",
       "                           Insulin       BMI  DiabetesPedigreeFunction  \\\n",
       "Pregnancies               0.082171  0.021960                 -0.033309   \n",
       "Glucose                   0.581186  0.232662                  0.136801   \n",
       "BloodPressure             0.098272  0.289344                 -0.002726   \n",
       "SkinThickness             0.184888  0.673379                  0.117465   \n",
       "Insulin                   1.000000  0.228050                  0.130395   \n",
       "BMI                       0.228050  1.000000                  0.155269   \n",
       "DiabetesPedigreeFunction  0.130395  0.155269                  1.000000   \n",
       "Age                       0.220261  0.024890                  0.032698   \n",
       "Outcome                   0.303454  0.313503                  0.173512   \n",
       "\n",
       "                               Age   Outcome  \n",
       "Pregnancies               0.548341  0.223189  \n",
       "Glucose                   0.261293  0.492799  \n",
       "BloodPressure             0.332091  0.171184  \n",
       "SkinThickness             0.138600  0.253102  \n",
       "Insulin                   0.220261  0.303454  \n",
       "BMI                       0.024890  0.313503  \n",
       "DiabetesPedigreeFunction  0.032698  0.173512  \n",
       "Age                       1.000000  0.235203  \n",
       "Outcome                   0.235203  1.000000  "
      ]
     },
     "execution_count": 508,
     "metadata": {},
     "output_type": "execute_result"
    }
   ],
   "source": [
    "data.shape\n",
    "corr_mat = data.corr()\n",
    "corr_mat"
   ]
  },
  {
   "cell_type": "code",
   "execution_count": 509,
   "id": "3213b38a",
   "metadata": {},
   "outputs": [
    {
     "data": {
      "image/png": "[encoded data removed]",
      "text/plain": [
       "<Figure size 432x288 with 2 Axes>"
      ]
     },
     "metadata": {
      "needs_background": "light"
     },
     "output_type": "display_data"
    }
   ],
   "source": [
    "sns.heatmap(corr_mat, square=True, cmap='coolwarm')\n",
    "pass"
   ]
  },
  {
   "cell_type": "markdown",
   "id": "040e864f",
   "metadata": {},
   "source": [
    "Выведем таблицу, которая даст нам понять, какие коэффициенты корееляции больше значения 0.5:"
   ]
  },
  {
   "cell_type": "code",
   "execution_count": 510,
   "id": "e2268bcf",
   "metadata": {},
   "outputs": [
    {
     "data": {
      "text/html": [
       "<div>\n",
       "<style scoped>\n",
       "    .dataframe tbody tr th:only-of-type {\n",
       "        vertical-align: middle;\n",
       "    }\n",
       "\n",
       "    .dataframe tbody tr th {\n",
       "        vertical-align: top;\n",
       "    }\n",
       "\n",
       "    .dataframe thead th {\n",
       "        text-align: right;\n",
       "    }\n",
       "</style>\n",
       "<table border=\"1\" class=\"dataframe\">\n",
       "  <thead>\n",
       "    <tr style=\"text-align: right;\">\n",
       "      <th></th>\n",
       "      <th>Pregnancies</th>\n",
       "      <th>Glucose</th>\n",
       "      <th>BloodPressure</th>\n",
       "      <th>SkinThickness</th>\n",
       "      <th>Insulin</th>\n",
       "      <th>BMI</th>\n",
       "      <th>DiabetesPedigreeFunction</th>\n",
       "      <th>Age</th>\n",
       "      <th>Outcome</th>\n",
       "    </tr>\n",
       "  </thead>\n",
       "  <tbody>\n",
       "    <tr>\n",
       "      <th>Pregnancies</th>\n",
       "      <td>True</td>\n",
       "      <td>False</td>\n",
       "      <td>False</td>\n",
       "      <td>False</td>\n",
       "      <td>False</td>\n",
       "      <td>False</td>\n",
       "      <td>False</td>\n",
       "      <td>True</td>\n",
       "      <td>False</td>\n",
       "    </tr>\n",
       "    <tr>\n",
       "      <th>Glucose</th>\n",
       "      <td>False</td>\n",
       "      <td>True</td>\n",
       "      <td>False</td>\n",
       "      <td>False</td>\n",
       "      <td>True</td>\n",
       "      <td>False</td>\n",
       "      <td>False</td>\n",
       "      <td>False</td>\n",
       "      <td>False</td>\n",
       "    </tr>\n",
       "    <tr>\n",
       "      <th>BloodPressure</th>\n",
       "      <td>False</td>\n",
       "      <td>False</td>\n",
       "      <td>True</td>\n",
       "      <td>False</td>\n",
       "      <td>False</td>\n",
       "      <td>False</td>\n",
       "      <td>False</td>\n",
       "      <td>False</td>\n",
       "      <td>False</td>\n",
       "    </tr>\n",
       "    <tr>\n",
       "      <th>SkinThickness</th>\n",
       "      <td>False</td>\n",
       "      <td>False</td>\n",
       "      <td>False</td>\n",
       "      <td>True</td>\n",
       "      <td>False</td>\n",
       "      <td>True</td>\n",
       "      <td>False</td>\n",
       "      <td>False</td>\n",
       "      <td>False</td>\n",
       "    </tr>\n",
       "    <tr>\n",
       "      <th>Insulin</th>\n",
       "      <td>False</td>\n",
       "      <td>True</td>\n",
       "      <td>False</td>\n",
       "      <td>False</td>\n",
       "      <td>True</td>\n",
       "      <td>False</td>\n",
       "      <td>False</td>\n",
       "      <td>False</td>\n",
       "      <td>False</td>\n",
       "    </tr>\n",
       "    <tr>\n",
       "      <th>BMI</th>\n",
       "      <td>False</td>\n",
       "      <td>False</td>\n",
       "      <td>False</td>\n",
       "      <td>True</td>\n",
       "      <td>False</td>\n",
       "      <td>True</td>\n",
       "      <td>False</td>\n",
       "      <td>False</td>\n",
       "      <td>False</td>\n",
       "    </tr>\n",
       "    <tr>\n",
       "      <th>DiabetesPedigreeFunction</th>\n",
       "      <td>False</td>\n",
       "      <td>False</td>\n",
       "      <td>False</td>\n",
       "      <td>False</td>\n",
       "      <td>False</td>\n",
       "      <td>False</td>\n",
       "      <td>True</td>\n",
       "      <td>False</td>\n",
       "      <td>False</td>\n",
       "    </tr>\n",
       "    <tr>\n",
       "      <th>Age</th>\n",
       "      <td>True</td>\n",
       "      <td>False</td>\n",
       "      <td>False</td>\n",
       "      <td>False</td>\n",
       "      <td>False</td>\n",
       "      <td>False</td>\n",
       "      <td>False</td>\n",
       "      <td>True</td>\n",
       "      <td>False</td>\n",
       "    </tr>\n",
       "    <tr>\n",
       "      <th>Outcome</th>\n",
       "      <td>False</td>\n",
       "      <td>False</td>\n",
       "      <td>False</td>\n",
       "      <td>False</td>\n",
       "      <td>False</td>\n",
       "      <td>False</td>\n",
       "      <td>False</td>\n",
       "      <td>False</td>\n",
       "      <td>True</td>\n",
       "    </tr>\n",
       "  </tbody>\n",
       "</table>\n",
       "</div>"
      ],
      "text/plain": [
       "                          Pregnancies  Glucose  BloodPressure  SkinThickness  \\\n",
       "Pregnancies                      True    False          False          False   \n",
       "Glucose                         False     True          False          False   \n",
       "BloodPressure                   False    False           True          False   \n",
       "SkinThickness                   False    False          False           True   \n",
       "Insulin                         False     True          False          False   \n",
       "BMI                             False    False          False           True   \n",
       "DiabetesPedigreeFunction        False    False          False          False   \n",
       "Age                              True    False          False          False   \n",
       "Outcome                         False    False          False          False   \n",
       "\n",
       "                          Insulin    BMI  DiabetesPedigreeFunction    Age  \\\n",
       "Pregnancies                 False  False                     False   True   \n",
       "Glucose                      True  False                     False  False   \n",
       "BloodPressure               False  False                     False  False   \n",
       "SkinThickness               False   True                     False  False   \n",
       "Insulin                      True  False                     False  False   \n",
       "BMI                         False   True                     False  False   \n",
       "DiabetesPedigreeFunction    False  False                      True  False   \n",
       "Age                         False  False                     False   True   \n",
       "Outcome                     False  False                     False  False   \n",
       "\n",
       "                          Outcome  \n",
       "Pregnancies                 False  \n",
       "Glucose                     False  \n",
       "BloodPressure               False  \n",
       "SkinThickness               False  \n",
       "Insulin                     False  \n",
       "BMI                         False  \n",
       "DiabetesPedigreeFunction    False  \n",
       "Age                         False  \n",
       "Outcome                      True  "
      ]
     },
     "execution_count": 510,
     "metadata": {},
     "output_type": "execute_result"
    }
   ],
   "source": [
    "corr_mat > 0.5"
   ]
  },
  {
   "cell_type": "code",
   "execution_count": 511,
   "id": "e55977e6",
   "metadata": {},
   "outputs": [
    {
     "data": {
      "text/plain": [
       "SkinThickness  BMI        0.673379\n",
       "Glucose        Insulin    0.581186\n",
       "Pregnancies    Age        0.548341\n",
       "dtype: float64"
      ]
     },
     "execution_count": 511,
     "metadata": {},
     "output_type": "execute_result"
    }
   ],
   "source": [
    "corr_mat.where(np.triu(corr_mat > 0.5, k=1)).stack().sort_values(ascending=False)"
   ]
  },
  {
   "cell_type": "markdown",
   "id": "a243d8e3",
   "metadata": {},
   "source": [
    "Мы получили довольно очевидные зависимости (средняя корреляция). Логично, что бОльший индекс массы тела (ИМТ) говорит о бОльшем весе человека, что коррелирует с толщиной его кожи. Во второй строке видна зависимость уровеня глюкозы и инсулина, что тоже не удивительно. И наконец, возраст человека напрямую коррелирует с количеством беременностей, что тоже бесспорно. Несмотря на то, что рассматриваются оба пола, данная зависимость прослеживается.\n",
    "\n",
    "Тем не менее, нам не удолось выделить зависимости ни одного из признаков с наличием самого диагноза. Попробуем рассмотреть конкретно столбец зависимостей наличия диагноза от других признаков:"
   ]
  },
  {
   "cell_type": "code",
   "execution_count": 512,
   "id": "01969787",
   "metadata": {},
   "outputs": [
    {
     "data": {
      "text/plain": [
       "Outcome                     1.000000\n",
       "Glucose                     0.492799\n",
       "BMI                         0.313503\n",
       "Insulin                     0.303454\n",
       "SkinThickness               0.253102\n",
       "Age                         0.235203\n",
       "Pregnancies                 0.223189\n",
       "DiabetesPedigreeFunction    0.173512\n",
       "BloodPressure               0.171184\n",
       "Name: Outcome, dtype: float64"
      ]
     },
     "execution_count": 512,
     "metadata": {},
     "output_type": "execute_result"
    }
   ],
   "source": [
    "data.shape\n",
    "corr_mat = data.corr()\n",
    "corr_mat[\"Outcome\"].sort_values(ascending=False)"
   ]
  },
  {
   "cell_type": "markdown",
   "id": "7ad8855c",
   "metadata": {},
   "source": [
    "Итак, данная таблица позволяет понять, что уровень глюкозы, ИМТ и уровень инсулина имеют наибольшее значение коэффициента корреляции с наличием диабета у человека (умеренная корреляция)."
   ]
  },
  {
   "cell_type": "markdown",
   "id": "c0ee0217",
   "metadata": {},
   "source": [
    "# 3. Обработка пропущенных значений"
   ]
  },
  {
   "cell_type": "markdown",
   "id": "2a454d06",
   "metadata": {},
   "source": [
    "Посмотрим, сколько же незаполненных ячеек имеется в каждом из столбцов:"
   ]
  },
  {
   "cell_type": "code",
   "execution_count": 513,
   "id": "ca56da0c",
   "metadata": {},
   "outputs": [
    {
     "data": {
      "text/plain": [
       "Pregnancies                   0\n",
       "Glucose                       5\n",
       "BloodPressure                35\n",
       "SkinThickness               227\n",
       "Insulin                     373\n",
       "BMI                          11\n",
       "DiabetesPedigreeFunction      0\n",
       "Age                           0\n",
       "Outcome                       0\n",
       "dtype: int64"
      ]
     },
     "execution_count": 513,
     "metadata": {},
     "output_type": "execute_result"
    }
   ],
   "source": [
    "data.isna().sum()"
   ]
  },
  {
   "cell_type": "markdown",
   "id": "ef9f018d",
   "metadata": {},
   "source": [
    "Заполним пустые значения медианами соответствующих числовых признаков:"
   ]
  },
  {
   "cell_type": "code",
   "execution_count": 514,
   "id": "851b8fb5",
   "metadata": {},
   "outputs": [],
   "source": [
    "data.fillna(data.median(axis = 0), axis=0 , inplace=True)"
   ]
  },
  {
   "cell_type": "code",
   "execution_count": 515,
   "id": "417da16a",
   "metadata": {},
   "outputs": [
    {
     "data": {
      "text/plain": [
       "Pregnancies                 0\n",
       "Glucose                     0\n",
       "BloodPressure               0\n",
       "SkinThickness               0\n",
       "Insulin                     0\n",
       "BMI                         0\n",
       "DiabetesPedigreeFunction    0\n",
       "Age                         0\n",
       "Outcome                     0\n",
       "dtype: int64"
      ]
     },
     "execution_count": 515,
     "metadata": {},
     "output_type": "execute_result"
    }
   ],
   "source": [
    "data.isna().sum()"
   ]
  },
  {
   "cell_type": "markdown",
   "id": "954d425b",
   "metadata": {},
   "source": [
    "# 4. Категориальные признаки отсутствуют"
   ]
  },
  {
   "cell_type": "markdown",
   "id": "4074cdb4",
   "metadata": {},
   "source": [
    "# 5. Нормализация"
   ]
  },
  {
   "cell_type": "markdown",
   "id": "cbcef3e6",
   "metadata": {},
   "source": [
    "Выполним стандартизацию всех признаков:"
   ]
  },
  {
   "cell_type": "code",
   "execution_count": 516,
   "id": "674614ee",
   "metadata": {},
   "outputs": [],
   "source": [
    "data_stand = (data - data.mean(axis = 0))/data.std(axis = 0)"
   ]
  },
  {
   "cell_type": "code",
   "execution_count": 517,
   "id": "8c8625a3",
   "metadata": {},
   "outputs": [
    {
     "data": {
      "text/html": [
       "<div>\n",
       "<style scoped>\n",
       "    .dataframe tbody tr th:only-of-type {\n",
       "        vertical-align: middle;\n",
       "    }\n",
       "\n",
       "    .dataframe tbody tr th {\n",
       "        vertical-align: top;\n",
       "    }\n",
       "\n",
       "    .dataframe thead th {\n",
       "        text-align: right;\n",
       "    }\n",
       "</style>\n",
       "<table border=\"1\" class=\"dataframe\">\n",
       "  <thead>\n",
       "    <tr style=\"text-align: right;\">\n",
       "      <th></th>\n",
       "      <th>Pregnancies</th>\n",
       "      <th>Glucose</th>\n",
       "      <th>BloodPressure</th>\n",
       "      <th>SkinThickness</th>\n",
       "      <th>Insulin</th>\n",
       "      <th>BMI</th>\n",
       "      <th>DiabetesPedigreeFunction</th>\n",
       "      <th>Age</th>\n",
       "      <th>Outcome</th>\n",
       "    </tr>\n",
       "  </thead>\n",
       "  <tbody>\n",
       "    <tr>\n",
       "      <th>count</th>\n",
       "      <td>7.670000e+02</td>\n",
       "      <td>7.670000e+02</td>\n",
       "      <td>7.670000e+02</td>\n",
       "      <td>7.670000e+02</td>\n",
       "      <td>7.670000e+02</td>\n",
       "      <td>7.670000e+02</td>\n",
       "      <td>7.670000e+02</td>\n",
       "      <td>7.670000e+02</td>\n",
       "      <td>7.670000e+02</td>\n",
       "    </tr>\n",
       "    <tr>\n",
       "      <th>mean</th>\n",
       "      <td>-7.440087e-17</td>\n",
       "      <td>7.237438e-19</td>\n",
       "      <td>1.328794e-16</td>\n",
       "      <td>-1.494531e-16</td>\n",
       "      <td>2.526590e-16</td>\n",
       "      <td>4.202419e-15</td>\n",
       "      <td>1.825716e-15</td>\n",
       "      <td>-2.268213e-16</td>\n",
       "      <td>1.971478e-16</td>\n",
       "    </tr>\n",
       "    <tr>\n",
       "      <th>std</th>\n",
       "      <td>1.000000e+00</td>\n",
       "      <td>1.000000e+00</td>\n",
       "      <td>1.000000e+00</td>\n",
       "      <td>1.000000e+00</td>\n",
       "      <td>1.000000e+00</td>\n",
       "      <td>1.000000e+00</td>\n",
       "      <td>1.000000e+00</td>\n",
       "      <td>1.000000e+00</td>\n",
       "      <td>1.000000e+00</td>\n",
       "    </tr>\n",
       "    <tr>\n",
       "      <th>min</th>\n",
       "      <td>-1.141301e+00</td>\n",
       "      <td>-2.556625e+00</td>\n",
       "      <td>-3.997763e+00</td>\n",
       "      <td>-2.612912e+00</td>\n",
       "      <td>-1.465709e+00</td>\n",
       "      <td>-2.071798e+00</td>\n",
       "      <td>-1.187673e+00</td>\n",
       "      <td>-1.041078e+00</td>\n",
       "      <td>-7.302765e-01</td>\n",
       "    </tr>\n",
       "    <tr>\n",
       "      <th>25%</th>\n",
       "      <td>-8.446630e-01</td>\n",
       "      <td>-7.271214e-01</td>\n",
       "      <td>-6.931323e-01</td>\n",
       "      <td>-4.767207e-01</td>\n",
       "      <td>-2.278212e-01</td>\n",
       "      <td>-7.198937e-01</td>\n",
       "      <td>-6.884629e-01</td>\n",
       "      <td>-7.851463e-01</td>\n",
       "      <td>-7.302765e-01</td>\n",
       "    </tr>\n",
       "    <tr>\n",
       "      <th>50%</th>\n",
       "      <td>-2.513878e-01</td>\n",
       "      <td>-1.502507e-01</td>\n",
       "      <td>-3.220615e-02</td>\n",
       "      <td>-2.011480e-03</td>\n",
       "      <td>-1.815450e-01</td>\n",
       "      <td>-2.213658e-02</td>\n",
       "      <td>-3.038751e-01</td>\n",
       "      <td>-3.585935e-01</td>\n",
       "      <td>-7.302765e-01</td>\n",
       "    </tr>\n",
       "    <tr>\n",
       "      <th>75%</th>\n",
       "      <td>6.385250e-01</td>\n",
       "      <td>6.079222e-01</td>\n",
       "      <td>6.287200e-01</td>\n",
       "      <td>3.540205e-01</td>\n",
       "      <td>-1.526224e-01</td>\n",
       "      <td>6.029375e-01</td>\n",
       "      <td>4.668085e-01</td>\n",
       "      <td>6.651331e-01</td>\n",
       "      <td>1.367559e+00</td>\n",
       "    </tr>\n",
       "    <tr>\n",
       "      <th>max</th>\n",
       "      <td>3.901539e+00</td>\n",
       "      <td>2.552800e+00</td>\n",
       "      <td>4.098582e+00</td>\n",
       "      <td>4.033017e+00</td>\n",
       "      <td>8.159735e+00</td>\n",
       "      <td>5.036603e+00</td>\n",
       "      <td>5.876676e+00</td>\n",
       "      <td>4.077555e+00</td>\n",
       "      <td>1.367559e+00</td>\n",
       "    </tr>\n",
       "  </tbody>\n",
       "</table>\n",
       "</div>"
      ],
      "text/plain": [
       "        Pregnancies       Glucose  BloodPressure  SkinThickness       Insulin  \\\n",
       "count  7.670000e+02  7.670000e+02   7.670000e+02   7.670000e+02  7.670000e+02   \n",
       "mean  -7.440087e-17  7.237438e-19   1.328794e-16  -1.494531e-16  2.526590e-16   \n",
       "std    1.000000e+00  1.000000e+00   1.000000e+00   1.000000e+00  1.000000e+00   \n",
       "min   -1.141301e+00 -2.556625e+00  -3.997763e+00  -2.612912e+00 -1.465709e+00   \n",
       "25%   -8.446630e-01 -7.271214e-01  -6.931323e-01  -4.767207e-01 -2.278212e-01   \n",
       "50%   -2.513878e-01 -1.502507e-01  -3.220615e-02  -2.011480e-03 -1.815450e-01   \n",
       "75%    6.385250e-01  6.079222e-01   6.287200e-01   3.540205e-01 -1.526224e-01   \n",
       "max    3.901539e+00  2.552800e+00   4.098582e+00   4.033017e+00  8.159735e+00   \n",
       "\n",
       "                BMI  DiabetesPedigreeFunction           Age       Outcome  \n",
       "count  7.670000e+02              7.670000e+02  7.670000e+02  7.670000e+02  \n",
       "mean   4.202419e-15              1.825716e-15 -2.268213e-16  1.971478e-16  \n",
       "std    1.000000e+00              1.000000e+00  1.000000e+00  1.000000e+00  \n",
       "min   -2.071798e+00             -1.187673e+00 -1.041078e+00 -7.302765e-01  \n",
       "25%   -7.198937e-01             -6.884629e-01 -7.851463e-01 -7.302765e-01  \n",
       "50%   -2.213658e-02             -3.038751e-01 -3.585935e-01 -7.302765e-01  \n",
       "75%    6.029375e-01              4.668085e-01  6.651331e-01  1.367559e+00  \n",
       "max    5.036603e+00              5.876676e+00  4.077555e+00  1.367559e+00  "
      ]
     },
     "execution_count": 517,
     "metadata": {},
     "output_type": "execute_result"
    }
   ],
   "source": [
    "data_stand.describe()"
   ]
  },
  {
   "cell_type": "markdown",
   "id": "81249624",
   "metadata": {},
   "source": [
    "# 6. Разбиение данных"
   ]
  },
  {
   "cell_type": "markdown",
   "id": "6020e20f",
   "metadata": {},
   "source": [
    "Для предсказания цены наличия диабета будем использовать все входные признаки."
   ]
  },
  {
   "cell_type": "code",
   "execution_count": 518,
   "id": "4409b966",
   "metadata": {},
   "outputs": [],
   "source": [
    "X = data_stand.drop([\"Outcome\"], axis=1)\n",
    "y = data[\"Outcome\"]"
   ]
  },
  {
   "cell_type": "markdown",
   "id": "eed279d1",
   "metadata": {},
   "source": [
    "Разобьем данные на обучающую и тестовую выборки в пропорции 3:1 (75% - обучающая выборка, 25% - тестовая):"
   ]
  },
  {
   "cell_type": "code",
   "execution_count": 519,
   "id": "e12746da",
   "metadata": {},
   "outputs": [],
   "source": [
    "N_test = 575\n",
    "N_train = X.shape[0] - N_test"
   ]
  },
  {
   "cell_type": "code",
   "execution_count": 520,
   "id": "ed375300",
   "metadata": {},
   "outputs": [],
   "source": [
    "from sklearn.model_selection import train_test_split\n",
    "X_train, X_test, y_train, y_test = train_test_split(X, y, \n",
    "                                                    train_size = N_train, test_size = N_test, \n",
    "                                                    stratify = y, random_state = 42)"
   ]
  },
  {
   "cell_type": "code",
   "execution_count": 521,
   "id": "1c1ef424",
   "metadata": {},
   "outputs": [
    {
     "data": {
      "text/plain": [
       "((192, 8), (575, 8))"
      ]
     },
     "execution_count": 521,
     "metadata": {},
     "output_type": "execute_result"
    }
   ],
   "source": [
    "X_train.shape, X_test.shape"
   ]
  },
  {
   "cell_type": "code",
   "execution_count": 522,
   "id": "ca90af09",
   "metadata": {},
   "outputs": [
    {
     "data": {
      "text/plain": [
       "KNeighborsClassifier(n_neighbors=10)"
      ]
     },
     "execution_count": 522,
     "metadata": {},
     "output_type": "execute_result"
    }
   ],
   "source": [
    "from sklearn.neighbors import KNeighborsClassifier\n",
    "\n",
    "knn = KNeighborsClassifier(n_neighbors = 10)\n",
    "#knn.set_params(n_neighbors=10)\n",
    "knn.fit(X_train, y_train)"
   ]
  },
  {
   "cell_type": "code",
   "execution_count": 523,
   "id": "1cb747a7",
   "metadata": {},
   "outputs": [
    {
     "data": {
      "text/plain": [
       "KNeighborsClassifier(n_neighbors=10)"
      ]
     },
     "execution_count": 523,
     "metadata": {},
     "output_type": "execute_result"
    }
   ],
   "source": [
    "knn"
   ]
  },
  {
   "cell_type": "code",
   "execution_count": 524,
   "id": "859caec2",
   "metadata": {},
   "outputs": [],
   "source": [
    "y_test_predict = knn.predict(X_test)\n",
    "err_test  = np.mean(y_test  != y_test_predict)"
   ]
  },
  {
   "cell_type": "code",
   "execution_count": 525,
   "id": "53e052b0",
   "metadata": {},
   "outputs": [
    {
     "data": {
      "text/plain": [
       "0.23304347826086957"
      ]
     },
     "execution_count": 525,
     "metadata": {},
     "output_type": "execute_result"
    }
   ],
   "source": [
    "err_test"
   ]
  },
  {
   "cell_type": "code",
   "execution_count": 526,
   "id": "7077ce73",
   "metadata": {},
   "outputs": [
    {
     "name": "stdout",
     "output_type": "stream",
     "text": [
      "[[325  50]\n",
      " [ 84 116]]\n"
     ]
    }
   ],
   "source": [
    "from sklearn.metrics import confusion_matrix\n",
    "\n",
    "print(confusion_matrix(y_test, y_test_predict))"
   ]
  },
  {
   "cell_type": "code",
   "execution_count": 527,
   "id": "92a7093a",
   "metadata": {},
   "outputs": [
    {
     "data": {
      "text/plain": [
       "array([[3, 0],\n",
       "       [1, 1]], dtype=int64)"
      ]
     },
     "execution_count": 527,
     "metadata": {},
     "output_type": "execute_result"
    }
   ],
   "source": [
    "confusion_matrix([0,1,0,1,0], [0,1,0,0,0])"
   ]
  },
  {
   "cell_type": "code",
   "execution_count": 528,
   "id": "2221c7b0",
   "metadata": {},
   "outputs": [
    {
     "name": "stdout",
     "output_type": "stream",
     "text": [
      "0.22342105263157896 11\n"
     ]
    }
   ],
   "source": [
    "# Долго!\n",
    "from sklearn.model_selection import GridSearchCV\n",
    "nnb = [1, 2, 3, 4, 5, 6, 7, 8, 9, 10, 11, 12, 13, 14, 15, 16, 17, 18,19, 20, 25, 35, 45, 55]\n",
    "knn = KNeighborsClassifier()\n",
    "grid = GridSearchCV(knn, param_grid = {'n_neighbors': nnb}, cv=10)\n",
    "grid.fit(X_train, y_train)\n",
    "\n",
    "best_cv_err = 1 - grid.best_score_\n",
    "best_n_neighbors = grid.best_estimator_.n_neighbors\n",
    "print(best_cv_err, best_n_neighbors)"
   ]
  },
  {
   "cell_type": "code",
   "execution_count": 529,
   "id": "f1c87ab8",
   "metadata": {},
   "outputs": [
    {
     "data": {
      "text/plain": [
       "KNeighborsClassifier(n_neighbors=11, p=1)"
      ]
     },
     "execution_count": 529,
     "metadata": {},
     "output_type": "execute_result"
    }
   ],
   "source": [
    "from sklearn.neighbors import KNeighborsClassifier\n",
    "model = KNeighborsClassifier(n_neighbors=best_n_neighbors, p=1)\n",
    "model.fit(X_train, y_train)"
   ]
  },
  {
   "cell_type": "code",
   "execution_count": 530,
   "id": "48d2c36c",
   "metadata": {},
   "outputs": [],
   "source": [
    "y_train_pred = model.predict(X_train)\n",
    "y_test_pred = model.predict(X_test)"
   ]
  },
  {
   "cell_type": "code",
   "execution_count": 531,
   "id": "6e012d79",
   "metadata": {},
   "outputs": [
    {
     "data": {
      "text/plain": [
       "(192,)"
      ]
     },
     "execution_count": 531,
     "metadata": {},
     "output_type": "execute_result"
    }
   ],
   "source": [
    "y_train.shape"
   ]
  },
  {
   "cell_type": "code",
   "execution_count": 532,
   "id": "f6b8f89d",
   "metadata": {},
   "outputs": [
    {
     "data": {
      "text/plain": [
       "16      True\n",
       "631    False\n",
       "732    False\n",
       "289    False\n",
       "101    False\n",
       "       ...  \n",
       "468     True\n",
       "113    False\n",
       "556    False\n",
       "210    False\n",
       "107    False\n",
       "Name: Outcome, Length: 192, dtype: bool"
      ]
     },
     "execution_count": 532,
     "metadata": {},
     "output_type": "execute_result"
    }
   ],
   "source": [
    "y_train != y_train_pred"
   ]
  },
  {
   "cell_type": "code",
   "execution_count": 533,
   "id": "f74589ba",
   "metadata": {},
   "outputs": [
    {
     "data": {
      "text/plain": [
       "609    False\n",
       "31     False\n",
       "139    False\n",
       "681    False\n",
       "488    False\n",
       "       ...  \n",
       "637    False\n",
       "656    False\n",
       "322     True\n",
       "12      True\n",
       "23     False\n",
       "Name: Outcome, Length: 575, dtype: bool"
      ]
     },
     "execution_count": 533,
     "metadata": {},
     "output_type": "execute_result"
    }
   ],
   "source": [
    "y_test != y_test_pred"
   ]
  },
  {
   "cell_type": "code",
   "execution_count": 534,
   "id": "c2fce137",
   "metadata": {},
   "outputs": [
    {
     "data": {
      "text/plain": [
       "(0.21875, 0.2417391304347826)"
      ]
     },
     "execution_count": 534,
     "metadata": {},
     "output_type": "execute_result"
    }
   ],
   "source": [
    "np.mean(y_train != y_train_pred), np.mean(y_test != y_test_pred)"
   ]
  },
  {
   "cell_type": "code",
   "execution_count": 535,
   "id": "27b515fb",
   "metadata": {},
   "outputs": [
    {
     "data": {
      "text/plain": [
       "(0.78125, 0.7582608695652174)"
      ]
     },
     "execution_count": 535,
     "metadata": {},
     "output_type": "execute_result"
    }
   ],
   "source": [
    "model.score(X_train, y_train), model.score(X_test, y_test)"
   ]
  },
  {
   "cell_type": "code",
   "execution_count": 536,
   "id": "22246e76",
   "metadata": {},
   "outputs": [
    {
     "data": {
      "text/plain": [
       "0.24173913043478257"
      ]
     },
     "execution_count": 536,
     "metadata": {},
     "output_type": "execute_result"
    }
   ],
   "source": [
    "1 - model.score(X_test, y_test)"
   ]
  },
  {
   "cell_type": "code",
   "execution_count": 537,
   "id": "7782100b",
   "metadata": {},
   "outputs": [
    {
     "data": {
      "text/plain": [
       "array([[315,  60],\n",
       "       [ 79, 121]], dtype=int64)"
      ]
     },
     "execution_count": 537,
     "metadata": {},
     "output_type": "execute_result"
    }
   ],
   "source": [
    "from sklearn.metrics import confusion_matrix\n",
    "confusion_matrix(y_test, y_test_pred)"
   ]
  },
  {
   "cell_type": "code",
   "execution_count": 538,
   "id": "87defef0",
   "metadata": {},
   "outputs": [
    {
     "data": {
      "image/png": "[encoded data removed]",
      "text/plain": [
       "<Figure size 432x288 with 2 Axes>"
      ]
     },
     "metadata": {
      "needs_background": "light"
     },
     "output_type": "display_data"
    }
   ],
   "source": [
    "from sklearn.metrics import plot_confusion_matrix\n",
    "plot_confusion_matrix(model, X_test, y_test, cmap=plt.cm.Blues)\n",
    "pass"
   ]
  }
 ],
 "metadata": {
  "kernelspec": {
   "display_name": "Python 3",
   "language": "python",
   "name": "python3"
  },
  "language_info": {
   "codemirror_mode": {
    "name": "ipython",
    "version": 3
   },
   "file_extension": ".py",
   "mimetype": "text/x-python",
   "name": "python",
   "nbconvert_exporter": "python",
   "pygments_lexer": "ipython3",
   "version": "3.8.8"
  }
 },
 "nbformat": 4,
 "nbformat_minor": 5
}
